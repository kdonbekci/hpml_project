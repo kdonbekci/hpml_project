{
 "cells": [
  {
   "cell_type": "markdown",
   "id": "8edcf3b6-ca76-4d28-93a9-34597eb811f8",
   "metadata": {},
   "source": [
    "# 5. Benchmark `deeplake`"
   ]
  },
  {
   "cell_type": "code",
   "execution_count": 1,
   "id": "a9193bb8-d9f0-417c-a1b1-7c85498e4005",
   "metadata": {},
   "outputs": [],
   "source": [
    "import deeplake\n",
    "import os\n",
    "import matplotlib.pyplot as plt\n",
    "import numpy as np\n",
    "from pathlib import Path\n",
    "import IPython.display as ipd\n",
    "from utils import time_me, time_me_seconds, SAMPLE_RATE\n",
    "from benchmarks import run_all_benchmarks"
   ]
  },
  {
   "cell_type": "code",
   "execution_count": 2,
   "id": "44ca8573-6187-4195-bec6-d197e4bfc7dc",
   "metadata": {},
   "outputs": [],
   "source": [
    "os.environ[\"GOOGLE_APPLICATION_CREDENTIALS\"] = \"./secret/hpml-399816-55d1dc19c012.json\""
   ]
  },
  {
   "cell_type": "code",
   "execution_count": 3,
   "id": "ba706581-3b0a-43ed-879b-f9a668515efd",
   "metadata": {},
   "outputs": [],
   "source": [
    "def deeplake_cropper(crop_duration):\n",
    "    crop_samples = int(SAMPLE_RATE * crop_duration)\n",
    "\n",
    "    def crop(audio):\n",
    "        audio = audio[:, 0]\n",
    "        audio = audio / np.abs(audio).max()  # peak normalize\n",
    "        audio = audio.astype(np.float32)  # convert to f32\n",
    "        num_samples = audio.shape[0]\n",
    "        assert num_samples != 0\n",
    "        if num_samples < crop_samples:\n",
    "            # pad if input is short\n",
    "            audio = np.pad(audio, (0, crop_samples - num_samples))\n",
    "        elif num_samples > crop_samples:\n",
    "            # crop if it is too long\n",
    "            rand_start = np.random.randint(0, num_samples - crop_samples)\n",
    "            audio = audio[rand_start : rand_start + crop_samples]\n",
    "        else:\n",
    "            # just right :)\n",
    "            pass\n",
    "        assert audio.shape[0] == crop_samples\n",
    "\n",
    "        return audio[None, :]\n",
    "\n",
    "    return crop"
   ]
  },
  {
   "cell_type": "code",
   "execution_count": 4,
   "id": "b74c21e1-af35-4dc5-8981-efaddac432be",
   "metadata": {},
   "outputs": [],
   "source": [
    "@time_me_seconds\n",
    "def build_deeplake_dataloader(\n",
    "    deeplake_path,\n",
    "    crop_duration=3.0,\n",
    "    batch_size=32,\n",
    "    shuffle_buffer=2048,\n",
    "    num_workers=4,\n",
    "    pin_memory=True,\n",
    "):\n",
    "    shuffle_buffer_size = (\n",
    "        310 / 2048 * shuffle_buffer\n",
    "    )  # deeplake uses MB as measurement for buffer\n",
    "    ds = deeplake.load(deeplake_path)\n",
    "    dataloader = ds.pytorch(\n",
    "        tensors=[\"audio\", \"accent\", \"gender\", \"age\"],\n",
    "        transform={\n",
    "            \"audio\": deeplake_cropper(crop_duration=crop_duration),\n",
    "            \"accent\": None,\n",
    "            \"gender\": None,\n",
    "            \"age\": None,\n",
    "        },\n",
    "        num_workers=num_workers,\n",
    "        batch_size=batch_size,\n",
    "        pin_memory=pin_memory,\n",
    "        shuffle=True,\n",
    "        buffer_size=shuffle_buffer_size,\n",
    "    )\n",
    "    single_worker_dataloader = ds.pytorch(\n",
    "        tensors=[\"audio\", \"accent\", \"gender\", \"age\"],\n",
    "        transform={\n",
    "            \"audio\": deeplake_cropper(crop_duration=crop_duration),\n",
    "            \"accent\": None,\n",
    "            \"gender\": None,\n",
    "            \"age\": None,\n",
    "        },\n",
    "        num_workers=0,\n",
    "        batch_size=batch_size,\n",
    "        pin_memory=pin_memory,\n",
    "        shuffle=True,\n",
    "        buffer_size=shuffle_buffer_size,\n",
    "    )\n",
    "    return dataloader, single_worker_dataloader"
   ]
  },
  {
   "cell_type": "code",
   "execution_count": 5,
   "id": "f601e36e-1b31-4d7d-b1ca-383ba0bdcaa7",
   "metadata": {},
   "outputs": [],
   "source": [
    "local_deeplake_path = \"./data/deeplake/\"\n",
    "cloud_deeplake_path = \"gcs://hpml-project/deeplake/\""
   ]
  },
  {
   "cell_type": "code",
   "execution_count": 6,
   "id": "d0557d92-656c-4810-a491-7c30820d9028",
   "metadata": {},
   "outputs": [
    {
     "name": "stdout",
     "output_type": "stream",
     "text": [
      "\n",
      "[2023-12-17_18-59-49]\t\n",
      "+-----------------------------------+\n",
      "|Beginning build_deeplake_dataloader|\n",
      "+-----------------------------------+\n",
      "./data/deeplake/ loaded successfully.\n",
      "\n"
     ]
    },
    {
     "name": "stderr",
     "output_type": "stream",
     "text": []
    },
    {
     "name": "stdout",
     "output_type": "stream",
     "text": [
      "[2023-12-17_18-59-55]\t\n",
      "+-------------------------------------------+\n",
      "|build_deeplake_dataloader took 5.86 seconds|\n",
      "+-------------------------------------------+\n",
      "\n"
     ]
    },
    {
     "name": "stderr",
     "output_type": "stream",
     "text": [
      "STAGE:2023-12-17 18:59:56 3422968:3422968 ActivityProfilerController.cpp:311] Completed Stage: Warm Up\n"
     ]
    },
    {
     "name": "stdout",
     "output_type": "stream",
     "text": [
      "Number of parameters of model: 64,628,259\n"
     ]
    },
    {
     "name": "stderr",
     "output_type": "stream",
     "text": [
      "  0%|                                                                                             | 0/200 [00:00<?, ?it/s]\n",
      "Please wait, filling up the shuffle buffer with samples.:   0%|                                | 0.00/296M [00:00<?, ?B/s]\u001b[A\n",
      "Please wait, filling up the shuffle buffer with samples.:   0%|                      | 188k/296M [00:06<2:45:14, 31.2kB/s]\u001b[A\n",
      "Please wait, filling up the shuffle buffer with samples.:   8%|█▊                     | 23.6M/296M [00:06<00:51, 5.52MB/s]\u001b[A\n",
      "Please wait, filling up the shuffle buffer with samples.:  16%|███▋                   | 47.1M/296M [00:06<00:20, 12.6MB/s]\u001b[A\n",
      "Please wait, filling up the shuffle buffer with samples.:  24%|█████▍                 | 70.5M/296M [00:06<00:10, 21.7MB/s]\u001b[A\n",
      "Please wait, filling up the shuffle buffer with samples.:  30%|██████▊                | 88.1M/296M [00:06<00:07, 29.9MB/s]\u001b[A\n",
      "Please wait, filling up the shuffle buffer with samples.:  36%|████████▌               | 106M/296M [00:06<00:05, 38.4MB/s]\u001b[A\n",
      "Please wait, filling up the shuffle buffer with samples.:  44%|██████████▍             | 129M/296M [00:07<00:03, 52.7MB/s]\u001b[A\n",
      "Please wait, filling up the shuffle buffer with samples.:  52%|████████████▍           | 153M/296M [00:07<00:02, 66.5MB/s]\u001b[A\n",
      "Please wait, filling up the shuffle buffer with samples.:  56%|█████████████▎          | 165M/296M [00:07<00:01, 72.3MB/s]\u001b[A\n",
      "Please wait, filling up the shuffle buffer with samples.:  62%|██████████████▊         | 182M/296M [00:07<00:01, 78.2MB/s]\u001b[A\n",
      "Please wait, filling up the shuffle buffer with samples.:  67%|████████████████▏       | 199M/296M [00:07<00:01, 89.8MB/s]\u001b[A\n",
      "Please wait, filling up the shuffle buffer with samples.:  75%|██████████████████▊      | 223M/296M [00:07<00:00, 101MB/s]\u001b[A\n",
      "Please wait, filling up the shuffle buffer with samples.:  79%|███████████████████▊     | 235M/296M [00:08<00:00, 100MB/s]\u001b[A\n",
      "Please wait, filling up the shuffle buffer with samples.:  85%|████████████████████▍   | 252M/296M [00:08<00:00, 91.2MB/s]\u001b[A\n",
      "Please wait, filling up the shuffle buffer with samples.: 100%|███████████████████████▉| 296M/296M [00:08<00:00, 35.7MB/s]\u001b[A\n"
     ]
    },
    {
     "name": "stdout",
     "output_type": "stream",
     "text": [
      "Shuffle buffer filling is complete.\n"
     ]
    },
    {
     "name": "stderr",
     "output_type": "stream",
     "text": [
      "/home/kaandonbekci/miniconda3/envs/ccu/lib/python3.11/site-packages/torch/nn/modules/conv.py:309: UserWarning: Applied workaround for CuDNN issue, install nvrtc.so (Triggered internally at /opt/conda/conda-bld/pytorch_1682343995622/work/aten/src/ATen/native/cudnn/Conv_v8.cpp:80.)\n",
      "  return F.conv1d(input, weight, bias, self.stride,\n",
      "100%|███████████████████████████████████████████████████████████████████████████████████| 200/200 [00:19<00:00, 10.22it/s]\n",
      "STAGE:2023-12-17 19:00:15 3422968:3422968 ActivityProfilerController.cpp:317] Completed Stage: Collection\n",
      "STAGE:2023-12-17 19:00:15 3422968:3422968 ActivityProfilerController.cpp:321] Completed Stage: Post Processing\n"
     ]
    },
    {
     "name": "stdout",
     "output_type": "stream",
     "text": [
      "Time to 1st batch: 8.84 seconds\n"
     ]
    }
   ],
   "source": [
    "tag = \"deeplake_local\"\n",
    "dataloader, single_worker_dataloader = build_deeplake_dataloader(local_deeplake_path)\n",
    "run_all_benchmarks(dataloader, single_worker_dataloader, tag=tag)"
   ]
  },
  {
   "cell_type": "code",
   "execution_count": 7,
   "id": "7f286c7b-1876-4e74-b8d5-20446579bda1",
   "metadata": {},
   "outputs": [
    {
     "name": "stdout",
     "output_type": "stream",
     "text": [
      "\n",
      "[2023-12-17_19-00-41]\t\n",
      "+-----------------------------------+\n",
      "|Beginning build_deeplake_dataloader|\n",
      "+-----------------------------------+\n"
     ]
    },
    {
     "name": "stderr",
     "output_type": "stream",
     "text": [
      "-"
     ]
    },
    {
     "name": "stdout",
     "output_type": "stream",
     "text": [
      "gcs://hpml-project/deeplake/ loaded successfully.\n",
      "\n"
     ]
    },
    {
     "name": "stderr",
     "output_type": "stream",
     "text": [
      " "
     ]
    },
    {
     "name": "stdout",
     "output_type": "stream",
     "text": [
      "[2023-12-17_19-01-14]\t\n",
      "+--------------------------------------------+\n",
      "|build_deeplake_dataloader took 33.76 seconds|\n",
      "+--------------------------------------------+\n",
      "\n",
      "Number of parameters of model: 64,628,259\n"
     ]
    },
    {
     "name": "stderr",
     "output_type": "stream",
     "text": [
      "STAGE:2023-12-17 19:01:15 3422968:3422968 ActivityProfilerController.cpp:311] Completed Stage: Warm Up\n",
      "  0%|                                                                                             | 0/200 [00:00<?, ?it/s]\n",
      "Please wait, filling up the shuffle buffer with samples.:   0%|                                | 0.00/296M [00:00<?, ?B/s]\u001b[A\n",
      "Please wait, filling up the shuffle buffer with samples.:   0%|                      | 188k/296M [00:10<4:40:42, 18.4kB/s]\u001b[A\n",
      "Please wait, filling up the shuffle buffer with samples.:   8%|█▊                     | 23.6M/296M [00:11<01:41, 2.81MB/s]\u001b[A\n",
      "Please wait, filling up the shuffle buffer with samples.:  20%|████▌                  | 58.8M/296M [00:12<00:29, 8.52MB/s]\u001b[A\n",
      "Please wait, filling up the shuffle buffer with samples.:  24%|█████▍                 | 70.5M/296M [00:13<00:28, 8.26MB/s]\u001b[A\n",
      "Please wait, filling up the shuffle buffer with samples.:  32%|███████▎               | 93.9M/296M [00:15<00:19, 10.6MB/s]\u001b[A\n",
      "Please wait, filling up the shuffle buffer with samples.:  48%|███████████▍            | 141M/296M [00:16<00:09, 17.1MB/s]\u001b[A\n",
      "Please wait, filling up the shuffle buffer with samples.:  56%|█████████████▎          | 164M/296M [00:17<00:08, 17.1MB/s]\u001b[A\n",
      "Please wait, filling up the shuffle buffer with samples.:  71%|█████████████████▏      | 211M/296M [00:19<00:03, 22.9MB/s]\u001b[A\n",
      "Please wait, filling up the shuffle buffer with samples.:  79%|███████████████████     | 235M/296M [00:20<00:02, 22.1MB/s]\u001b[A\n",
      "Please wait, filling up the shuffle buffer with samples.:  87%|████████████████████▉   | 258M/296M [00:20<00:01, 28.5MB/s]\u001b[A\n",
      "Please wait, filling up the shuffle buffer with samples.: 100%|███████████████████████▉| 296M/296M [00:21<00:00, 14.2MB/s]\u001b[A\n",
      "  0%|▍                                                                                  | 1/200 [00:21<1:12:18, 21.80s/it]"
     ]
    },
    {
     "name": "stdout",
     "output_type": "stream",
     "text": [
      "Shuffle buffer filling is complete.\n"
     ]
    },
    {
     "name": "stderr",
     "output_type": "stream",
     "text": [
      "100%|███████████████████████████████████████████████████████████████████████████████████| 200/200 [01:01<00:00,  3.24it/s]\n",
      "STAGE:2023-12-17 19:02:17 3422968:3422968 ActivityProfilerController.cpp:317] Completed Stage: Collection\n",
      "STAGE:2023-12-17 19:02:17 3422968:3422968 ActivityProfilerController.cpp:321] Completed Stage: Post Processing\n"
     ]
    },
    {
     "name": "stdout",
     "output_type": "stream",
     "text": [
      "Time to 1st batch: 21.78 seconds\n"
     ]
    }
   ],
   "source": [
    "tag = \"deeplake_cloud\"\n",
    "dataloader, single_worker_dataloader = build_deeplake_dataloader(cloud_deeplake_path)\n",
    "run_all_benchmarks(dataloader, single_worker_dataloader, tag=tag)"
   ]
  },
  {
   "cell_type": "code",
   "execution_count": null,
   "id": "69dc3495-d7ea-4d16-b3cc-95b4f4e5ae5b",
   "metadata": {},
   "outputs": [],
   "source": []
  }
 ],
 "metadata": {
  "kernelspec": {
   "display_name": "Python 3 (ipykernel)",
   "language": "python",
   "name": "python3"
  },
  "language_info": {
   "codemirror_mode": {
    "name": "ipython",
    "version": 3
   },
   "file_extension": ".py",
   "mimetype": "text/x-python",
   "name": "python",
   "nbconvert_exporter": "python",
   "pygments_lexer": "ipython3",
   "version": "3.11.5"
  }
 },
 "nbformat": 4,
 "nbformat_minor": 5
}
