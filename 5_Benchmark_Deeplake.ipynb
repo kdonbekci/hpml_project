{
 "cells": [
  {
   "cell_type": "markdown",
   "id": "8edcf3b6-ca76-4d28-93a9-34597eb811f8",
   "metadata": {},
   "source": [
    "# 5. Benchmark `deeplake`"
   ]
  },
  {
   "cell_type": "code",
   "execution_count": null,
   "id": "a9193bb8-d9f0-417c-a1b1-7c85498e4005",
   "metadata": {},
   "outputs": [],
   "source": []
  }
 ],
 "metadata": {
  "kernelspec": {
   "display_name": "Python 3 (ipykernel)",
   "language": "python",
   "name": "python3"
  },
  "language_info": {
   "codemirror_mode": {
    "name": "ipython",
    "version": 3
   },
   "file_extension": ".py",
   "mimetype": "text/x-python",
   "name": "python",
   "nbconvert_exporter": "python",
   "pygments_lexer": "ipython3",
   "version": "3.11.5"
  }
 },
 "nbformat": 4,
 "nbformat_minor": 5
}
