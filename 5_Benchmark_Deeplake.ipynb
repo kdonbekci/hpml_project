{
 "cells": [
  {
   "cell_type": "markdown",
   "id": "8edcf3b6-ca76-4d28-93a9-34597eb811f8",
   "metadata": {},
   "source": [
    "# 5. Benchmark `deeplake`"
   ]
  },
  {
   "cell_type": "code",
   "execution_count": 1,
   "id": "a9193bb8-d9f0-417c-a1b1-7c85498e4005",
   "metadata": {},
   "outputs": [],
   "source": [
    "import deeplake\n",
    "import os\n",
    "import matplotlib.pyplot as plt\n",
    "import numpy as np\n",
    "from pathlib import Path\n",
    "import IPython.display as ipd\n",
    "from utils import time_me, time_me_seconds, SAMPLE_RATE\n",
    "from benchmarks import run_all_benchmarks"
   ]
  },
  {
   "cell_type": "code",
   "execution_count": 2,
   "id": "44ca8573-6187-4195-bec6-d197e4bfc7dc",
   "metadata": {},
   "outputs": [],
   "source": [
    "os.environ[\"GOOGLE_APPLICATION_CREDENTIALS\"] = \"./secret/hpml-399816-55d1dc19c012.json\""
   ]
  },
  {
   "cell_type": "code",
   "execution_count": 3,
   "id": "ba706581-3b0a-43ed-879b-f9a668515efd",
   "metadata": {},
   "outputs": [],
   "source": [
    "def deeplake_cropper(crop_duration):\n",
    "    crop_samples = int(SAMPLE_RATE * crop_duration)\n",
    "\n",
    "    def crop(audio):\n",
    "        audio = audio[:, 0]\n",
    "        audio = audio / np.abs(audio).max()  # peak normalize\n",
    "        audio = audio.astype(np.float32)  # convert to f32\n",
    "        num_samples = audio.shape[0]\n",
    "        assert num_samples != 0\n",
    "        if num_samples < crop_samples:\n",
    "            # pad if input is short\n",
    "            audio = np.pad(audio, (0, crop_samples - num_samples))\n",
    "        elif num_samples > crop_samples:\n",
    "            # crop if it is too long\n",
    "            rand_start = np.random.randint(0, num_samples - crop_samples)\n",
    "            audio = audio[rand_start : rand_start + crop_samples]\n",
    "        else:\n",
    "            # just right :)\n",
    "            pass\n",
    "        assert audio.shape[0] == crop_samples\n",
    "\n",
    "        return audio[None, :]\n",
    "\n",
    "    return crop"
   ]
  },
  {
   "cell_type": "code",
   "execution_count": 4,
   "id": "b74c21e1-af35-4dc5-8981-efaddac432be",
   "metadata": {},
   "outputs": [],
   "source": [
    "@time_me_seconds\n",
    "def build_deeplake_dataloader(\n",
    "    deeplake_path,\n",
    "    crop_duration=3.0,\n",
    "    batch_size=32,\n",
    "    shuffle_buffer=2048,\n",
    "    num_workers=4,\n",
    "    pin_memory=True,\n",
    "):\n",
    "    shuffle_buffer_size = (\n",
    "        310 / 2048 * shuffle_buffer\n",
    "    )  # deeplake uses MB as measurement for buffer\n",
    "    ds = deeplake.load(deeplake_path)\n",
    "    dataloader = ds.pytorch(\n",
    "        tensors=[\"audio\", \"accent\", \"gender\", \"age\"],\n",
    "        transform={\n",
    "            \"audio\": deeplake_cropper(crop_duration=crop_duration),\n",
    "            \"accent\": None,\n",
    "            \"gender\": None,\n",
    "            \"age\": None,\n",
    "        },\n",
    "        num_workers=num_workers,\n",
    "        batch_size=batch_size,\n",
    "        pin_memory=pin_memory,\n",
    "        shuffle=True,\n",
    "        buffer_size=shuffle_buffer_size,\n",
    "    )\n",
    "    single_worker_dataloader = ds.pytorch(\n",
    "        tensors=[\"audio\", \"accent\", \"gender\", \"age\"],\n",
    "        transform={\n",
    "            \"audio\": deeplake_cropper(crop_duration=crop_duration),\n",
    "            \"accent\": None,\n",
    "            \"gender\": None,\n",
    "            \"age\": None,\n",
    "        },\n",
    "        num_workers=0,\n",
    "        batch_size=batch_size,\n",
    "        pin_memory=pin_memory,\n",
    "        shuffle=True,\n",
    "        buffer_size=shuffle_buffer_size,\n",
    "    )\n",
    "    return dataloader, single_worker_dataloader"
   ]
  },
  {
   "cell_type": "code",
   "execution_count": 5,
   "id": "f601e36e-1b31-4d7d-b1ca-383ba0bdcaa7",
   "metadata": {},
   "outputs": [],
   "source": [
    "local_deeplake_path = \"./data/deeplake/\"\n",
    "cloud_deeplake_path = \"gcs://hpml-project/deeplake/\""
   ]
  },
  {
   "cell_type": "code",
   "execution_count": 6,
   "id": "d0557d92-656c-4810-a491-7c30820d9028",
   "metadata": {},
   "outputs": [
    {
     "name": "stdout",
     "output_type": "stream",
     "text": [
      "\n",
      "[2023-12-18_21-41-37]\t\n",
      "+-----------------------------------+\n",
      "|Beginning build_deeplake_dataloader|\n",
      "+-----------------------------------+\n",
      "./data/deeplake/ loaded successfully.\n",
      "\n"
     ]
    },
    {
     "name": "stderr",
     "output_type": "stream",
     "text": [
      "/home/kaandonbekci/miniconda3/envs/torch/lib/python3.11/site-packages/deeplake/util/warnings.py:7: UserWarning: Checking out dataset in read only mode as another machine has locked this version for writing.\n",
      "  warnings.warn(*args, **kwargs)\n",
      "\n"
     ]
    },
    {
     "name": "stdout",
     "output_type": "stream",
     "text": [
      "[2023-12-18_21-41-42]\t\n",
      "+-------------------------------------------+\n",
      "|build_deeplake_dataloader took 5.62 seconds|\n",
      "+-------------------------------------------+\n",
      "\n"
     ]
    },
    {
     "name": "stderr",
     "output_type": "stream",
     "text": [
      "STAGE:2023-12-18 21:41:43 204585:204585 ActivityProfilerController.cpp:311] Completed Stage: Warm Up\n"
     ]
    },
    {
     "name": "stdout",
     "output_type": "stream",
     "text": [
      "Number of parameters of model: 64,628,259\n"
     ]
    },
    {
     "name": "stderr",
     "output_type": "stream",
     "text": [
      "  0%|                                                                                                                                                                                                                        | 0/200 [00:00<?, ?it/s]\n",
      "Please wait, filling up the shuffle buffer with samples.:   0%|                                                                                                                                                           | 0.00/296M [00:00<?, ?B/s]\u001b[A\n",
      "Please wait, filling up the shuffle buffer with samples.:   0%|                                                                                                                                                 | 188k/296M [00:06<2:48:28, 30.6kB/s]\u001b[A\n",
      "Please wait, filling up the shuffle buffer with samples.:   8%|███████████▋                                                                                                                                      | 23.6M/296M [00:06<00:52, 5.44MB/s]\u001b[A\n",
      "Please wait, filling up the shuffle buffer with samples.:  16%|███████████████████████▏                                                                                                                          | 47.1M/296M [00:06<00:21, 12.4MB/s]\u001b[A\n",
      "Please wait, filling up the shuffle buffer with samples.:  24%|██████████████████████████████████▊                                                                                                               | 70.5M/296M [00:06<00:10, 21.8MB/s]\u001b[A\n",
      "Please wait, filling up the shuffle buffer with samples.:  29%|██████████████████████████████████████████▏                                                                                                       | 85.5M/296M [00:06<00:07, 27.8MB/s]\u001b[A\n",
      "Please wait, filling up the shuffle buffer with samples.:  34%|█████████████████████████████████████████████████▎                                                                                                | 99.8M/296M [00:07<00:06, 33.0MB/s]\u001b[A\n",
      "Please wait, filling up the shuffle buffer with samples.:  42%|█████████████████████████████████████████████████████████████▎                                                                                     | 123M/296M [00:07<00:03, 46.5MB/s]\u001b[A\n",
      "Please wait, filling up the shuffle buffer with samples.:  50%|████████████████████████████████████████████████████████████████████████▉                                                                          | 147M/296M [00:07<00:02, 64.4MB/s]\u001b[A\n",
      "Please wait, filling up the shuffle buffer with samples.:  58%|████████████████████████████████████████████████████████████████████████████████████▌                                                              | 170M/296M [00:07<00:01, 81.1MB/s]\u001b[A\n",
      "Please wait, filling up the shuffle buffer with samples.:  63%|█████████████████████████████████████████████████████████████████████████████████████████████▎                                                     | 188M/296M [00:07<00:01, 92.1MB/s]\u001b[A\n",
      "Please wait, filling up the shuffle buffer with samples.:  68%|████████████████████████████████████████████████████████████████████████████████████████████████████▉                                               | 202M/296M [00:07<00:00, 100MB/s]\u001b[A\n",
      "Please wait, filling up the shuffle buffer with samples.:  73%|███████████████████████████████████████████████████████████████████████████████████████████████████████████▉                                        | 216M/296M [00:07<00:00, 106MB/s]\u001b[A\n",
      "Please wait, filling up the shuffle buffer with samples.:  77%|█████████████████████████████████████████████████████████████████████████████████████████████████████████████████▊                                 | 229M/296M [00:08<00:00, 99.6MB/s]\u001b[A\n",
      "Please wait, filling up the shuffle buffer with samples.:  81%|████████████████████████████████████████████████████████████████████████████████████████████████████████████████████████▍                           | 241M/296M [00:08<00:00, 102MB/s]\u001b[A\n",
      "Please wait, filling up the shuffle buffer with samples.:  87%|█████████████████████████████████████████████████████████████████████████████████████████████████████████████████████████████████▏                  | 258M/296M [00:08<00:00, 113MB/s]\u001b[A\n",
      "Please wait, filling up the shuffle buffer with samples.:  91%|███████████████████████████████████████████████████████████████████████████████████████████████████████████████████████████████████████▏            | 270M/296M [00:08<00:00, 116MB/s]\u001b[A\n",
      "Please wait, filling up the shuffle buffer with samples.:  95%|█████████████████████████████████████████████████████████████████████████████████████████████████████████████████████████████████████████████▎      | 282M/296M [00:08<00:00, 117MB/s]\u001b[A\n",
      "Please wait, filling up the shuffle buffer with samples.: 100%|██████████████████████████████████████████████████████████████████████████████████████████████████████████████████████████████████████████████████▉| 296M/296M [00:08<00:00, 35.6MB/s]\u001b[A\n"
     ]
    },
    {
     "name": "stdout",
     "output_type": "stream",
     "text": [
      "Shuffle buffer filling is complete.\n"
     ]
    },
    {
     "name": "stderr",
     "output_type": "stream",
     "text": [
      "100%|██████████████████████████████████████████████████████████████████████████████████████████████████████████████████████████████████████████████████████████████████████████████████████████████████████████████| 200/200 [00:19<00:00, 10.18it/s]\n",
      "STAGE:2023-12-18 21:42:03 204585:204585 ActivityProfilerController.cpp:317] Completed Stage: Collection\n",
      "STAGE:2023-12-18 21:42:03 204585:204585 ActivityProfilerController.cpp:321] Completed Stage: Post Processing\n"
     ]
    },
    {
     "name": "stdout",
     "output_type": "stream",
     "text": [
      "Time to 1st batch: 8.93 seconds\n"
     ]
    }
   ],
   "source": [
    "tag = \"deeplake_local\"\n",
    "dataloader, single_worker_dataloader = build_deeplake_dataloader(local_deeplake_path)\n",
    "run_all_benchmarks(dataloader, single_worker_dataloader, tag=tag)"
   ]
  },
  {
   "cell_type": "code",
   "execution_count": 7,
   "id": "7f286c7b-1876-4e74-b8d5-20446579bda1",
   "metadata": {},
   "outputs": [
    {
     "name": "stdout",
     "output_type": "stream",
     "text": [
      "\n",
      "[2023-12-18_21-42-26]\t\n",
      "+-----------------------------------+\n",
      "|Beginning build_deeplake_dataloader|\n",
      "+-----------------------------------+\n"
     ]
    },
    {
     "name": "stderr",
     "output_type": "stream",
     "text": [
      "/"
     ]
    },
    {
     "name": "stdout",
     "output_type": "stream",
     "text": [
      "gcs://hpml-project/deeplake/ loaded successfully.\n",
      "\n"
     ]
    },
    {
     "name": "stderr",
     "output_type": "stream",
     "text": [
      " "
     ]
    },
    {
     "name": "stdout",
     "output_type": "stream",
     "text": [
      "[2023-12-18_21-43-18]\t\n",
      "+--------------------------------------------+\n",
      "|build_deeplake_dataloader took 52.12 seconds|\n",
      "+--------------------------------------------+\n",
      "\n"
     ]
    },
    {
     "name": "stderr",
     "output_type": "stream",
     "text": [
      "STAGE:2023-12-18 21:43:19 204585:204585 ActivityProfilerController.cpp:311] Completed Stage: Warm Up\n"
     ]
    },
    {
     "name": "stdout",
     "output_type": "stream",
     "text": [
      "Number of parameters of model: 64,628,259\n"
     ]
    },
    {
     "name": "stderr",
     "output_type": "stream",
     "text": [
      "  0%|                                                                                                                                                                                                                        | 0/200 [00:00<?, ?it/s]\n",
      "Please wait, filling up the shuffle buffer with samples.:   0%|                                                                                                                                                           | 0.00/296M [00:00<?, ?B/s]\u001b[A\n",
      "Please wait, filling up the shuffle buffer with samples.:   0%|                                                                                                                                                 | 188k/296M [00:11<5:21:31, 16.1kB/s]\u001b[A\n",
      "Please wait, filling up the shuffle buffer with samples.:   8%|███████████▋                                                                                                                                      | 23.6M/296M [00:13<01:50, 2.59MB/s]\u001b[A\n",
      "Please wait, filling up the shuffle buffer with samples.:  24%|██████████████████████████████████▊                                                                                                               | 70.5M/296M [00:14<00:28, 8.29MB/s]\u001b[A\n",
      "Please wait, filling up the shuffle buffer with samples.:  32%|██████████████████████████████████████████████▍                                                                                                   | 93.9M/296M [00:15<00:20, 10.5MB/s]\u001b[A\n",
      "Please wait, filling up the shuffle buffer with samples.:  40%|██████████████████████████████████████████████████████████▎                                                                                        | 117M/296M [00:15<00:12, 15.2MB/s]\u001b[A\n",
      "Please wait, filling up the shuffle buffer with samples.:  48%|██████████████████████████████████████████████████████████████████████                                                                             | 141M/296M [00:17<00:09, 16.5MB/s]\u001b[A\n",
      "Please wait, filling up the shuffle buffer with samples.:  56%|█████████████████████████████████████████████████████████████████████████████████▋                                                                 | 164M/296M [00:18<00:07, 17.7MB/s]\u001b[A\n",
      "Please wait, filling up the shuffle buffer with samples.:  63%|█████████████████████████████████████████████████████████████████████████████████████████████▎                                                     | 188M/296M [00:18<00:04, 24.7MB/s]\u001b[A\n",
      "Please wait, filling up the shuffle buffer with samples.:  67%|███████████████████████████████████████████████████████████████████████████████████████████████████▏                                               | 199M/296M [00:19<00:04, 21.3MB/s]\u001b[A\n",
      "Please wait, filling up the shuffle buffer with samples.:  71%|████████████████████████████████████████████████████████████████████████████████████████████████████████▉                                          | 211M/296M [00:19<00:03, 23.7MB/s]\u001b[A\n",
      "Please wait, filling up the shuffle buffer with samples.:  79%|████████████████████████████████████████████████████████████████████████████████████████████████████████████████████▋                              | 235M/296M [00:20<00:02, 22.9MB/s]\u001b[A\n",
      "Please wait, filling up the shuffle buffer with samples.:  87%|████████████████████████████████████████████████████████████████████████████████████████████████████████████████████████████████▎                  | 258M/296M [00:20<00:01, 32.3MB/s]\u001b[A\n",
      "Please wait, filling up the shuffle buffer with samples.: 100%|██████████████████████████████████████████████████████████████████████████████████████████████████████████████████████████████████████████████████▉| 296M/296M [00:21<00:00, 14.1MB/s]\u001b[A\n",
      "  2%|███                                                                                                                                                                                                             | 3/200 [00:22<18:51,  5.74s/it]"
     ]
    },
    {
     "name": "stdout",
     "output_type": "stream",
     "text": [
      "Shuffle buffer filling is complete.\n"
     ]
    },
    {
     "name": "stderr",
     "output_type": "stream",
     "text": [
      "100%|██████████████████████████████████████████████████████████████████████████████████████████████████████████████████████████████████████████████████████████████████████████████████████████████████████████████| 200/200 [01:20<00:00,  2.48it/s]\n",
      "STAGE:2023-12-18 21:44:39 204585:204585 ActivityProfilerController.cpp:317] Completed Stage: Collection\n",
      "STAGE:2023-12-18 21:44:39 204585:204585 ActivityProfilerController.cpp:321] Completed Stage: Post Processing\n"
     ]
    },
    {
     "name": "stdout",
     "output_type": "stream",
     "text": [
      "Time to 1st batch: 21.96 seconds\n"
     ]
    }
   ],
   "source": [
    "tag = \"deeplake_cloud\"\n",
    "dataloader, single_worker_dataloader = build_deeplake_dataloader(cloud_deeplake_path)\n",
    "run_all_benchmarks(dataloader, single_worker_dataloader, tag=tag)"
   ]
  }
 ],
 "metadata": {
  "kernelspec": {
   "display_name": "Python 3 (ipykernel)",
   "language": "python",
   "name": "python3"
  },
  "language_info": {
   "codemirror_mode": {
    "name": "ipython",
    "version": 3
   },
   "file_extension": ".py",
   "mimetype": "text/x-python",
   "name": "python",
   "nbconvert_exporter": "python",
   "pygments_lexer": "ipython3",
   "version": "3.11.5"
  }
 },
 "nbformat": 4,
 "nbformat_minor": 5
}
