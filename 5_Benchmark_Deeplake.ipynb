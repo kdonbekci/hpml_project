{
 "cells": [
  {
   "cell_type": "markdown",
   "id": "8edcf3b6-ca76-4d28-93a9-34597eb811f8",
   "metadata": {},
   "source": [
    "# 5. Benchmark `deeplake`"
   ]
  },
  {
   "cell_type": "code",
   "execution_count": 1,
   "id": "a9193bb8-d9f0-417c-a1b1-7c85498e4005",
   "metadata": {},
   "outputs": [],
   "source": [
    "import deeplake\n",
    "import os\n",
    "import matplotlib.pyplot as plt\n",
    "import numpy as np\n",
    "from pathlib import Path\n",
    "import IPython.display as ipd\n",
    "from utils import time_me, time_me_seconds, SAMPLE_RATE\n",
    "from benchmarks import run_all_benchmarks, run_cpu_benchmark"
   ]
  },
  {
   "cell_type": "code",
   "execution_count": 2,
   "id": "44ca8573-6187-4195-bec6-d197e4bfc7dc",
   "metadata": {},
   "outputs": [],
   "source": [
    "os.environ[\"GOOGLE_APPLICATION_CREDENTIALS\"] = \"./secret/hpml-399816-55d1dc19c012.json\""
   ]
  },
  {
   "cell_type": "code",
   "execution_count": 3,
   "id": "ba706581-3b0a-43ed-879b-f9a668515efd",
   "metadata": {},
   "outputs": [],
   "source": [
    "def deeplake_cropper(crop_duration):\n",
    "    crop_samples = int(SAMPLE_RATE * crop_duration)\n",
    "\n",
    "    def crop(audio):\n",
    "        audio = audio[:, 0]\n",
    "        audio = audio / np.abs(audio).max()  # peak normalize\n",
    "        audio = audio.astype(np.float32)  # convert to f32\n",
    "        num_samples = audio.shape[0]\n",
    "        assert num_samples != 0\n",
    "        if num_samples < crop_samples:\n",
    "            # pad if input is short\n",
    "            audio = np.pad(audio, (0, crop_samples - num_samples))\n",
    "        elif num_samples > crop_samples:\n",
    "            # crop if it is too long\n",
    "            rand_start = np.random.randint(0, num_samples - crop_samples)\n",
    "            audio = audio[rand_start : rand_start + crop_samples]\n",
    "        else:\n",
    "            # just right :)\n",
    "            pass\n",
    "        assert audio.shape[0] == crop_samples\n",
    "\n",
    "        return audio[None, :]\n",
    "\n",
    "    return crop"
   ]
  },
  {
   "cell_type": "code",
   "execution_count": 5,
   "id": "b74c21e1-af35-4dc5-8981-efaddac432be",
   "metadata": {},
   "outputs": [],
   "source": [
    "@time_me_seconds\n",
    "def build_deeplake_dataloader(\n",
    "    deeplake_path,\n",
    "    crop_duration=3.0,\n",
    "    batch_size=32,\n",
    "    shuffle_buffer=2048,\n",
    "    num_workers=4,\n",
    "    pin_memory=True,\n",
    "):\n",
    "    shuffle_buffer_size = (\n",
    "        310 / 2048 * shuffle_buffer\n",
    "    )  # deeplake uses MB as measurement for buffer\n",
    "    ds = deeplake.load(deeplake_path)\n",
    "    dataloader = ds.pytorch(\n",
    "        tensors=[\"audio\", \"accent\", \"gender\", \"age\"],\n",
    "        transform={\n",
    "            \"audio\": deeplake_cropper(crop_duration=crop_duration),\n",
    "            \"accent\": None,\n",
    "            \"gender\": None,\n",
    "            \"age\": None,\n",
    "        },\n",
    "        num_workers=num_workers,\n",
    "        batch_size=batch_size,\n",
    "        pin_memory=pin_memory,\n",
    "        shuffle=True,\n",
    "        buffer_size=shuffle_buffer_size,\n",
    "    )\n",
    "    single_worker_dataloader = ds.pytorch(\n",
    "        tensors=[\"audio\", \"accent\", \"gender\", \"age\"],\n",
    "        transform={\n",
    "            \"audio\": deeplake_cropper(crop_duration=crop_duration),\n",
    "            \"accent\": None,\n",
    "            \"gender\": None,\n",
    "            \"age\": None,\n",
    "        },\n",
    "        num_workers=0,\n",
    "        batch_size=batch_size,\n",
    "        pin_memory=pin_memory,\n",
    "        shuffle=True,\n",
    "        buffer_size=shuffle_buffer_size,\n",
    "    )\n",
    "    return dataloader, single_worker_dataloader"
   ]
  },
  {
   "cell_type": "code",
   "execution_count": 6,
   "id": "f601e36e-1b31-4d7d-b1ca-383ba0bdcaa7",
   "metadata": {},
   "outputs": [],
   "source": [
    "local_deeplake_path = \"./data/deeplake/\"\n",
    "cloud_deeplake_path = \"gcs://hpml-project/deeplake/\""
   ]
  },
  {
   "cell_type": "code",
   "execution_count": 7,
   "id": "d0557d92-656c-4810-a491-7c30820d9028",
   "metadata": {},
   "outputs": [
    {
     "name": "stdout",
     "output_type": "stream",
     "text": [
      "\n",
      "[2023-12-17_18-45-34]\t\n",
      "+-----------------------------------+\n",
      "|Beginning build_deeplake_dataloader|\n",
      "+-----------------------------------+\n",
      "./data/deeplake/ loaded successfully.\n",
      "\n"
     ]
    },
    {
     "name": "stderr",
     "output_type": "stream",
     "text": []
    },
    {
     "name": "stdout",
     "output_type": "stream",
     "text": [
      "[2023-12-17_18-45-39]\t\n",
      "+-------------------------------------------+\n",
      "|build_deeplake_dataloader took 5.92 seconds|\n",
      "+-------------------------------------------+\n",
      "\n"
     ]
    },
    {
     "name": "stderr",
     "output_type": "stream",
     "text": [
      "STAGE:2023-12-17 18:45:40 3422188:3422188 ActivityProfilerController.cpp:311] Completed Stage: Warm Up\n"
     ]
    },
    {
     "name": "stdout",
     "output_type": "stream",
     "text": [
      "Number of parameters of model: 64,628,259\n"
     ]
    },
    {
     "name": "stderr",
     "output_type": "stream",
     "text": [
      "  0%|                                                                                             | 0/200 [00:00<?, ?it/s]\n",
      "Please wait, filling up the shuffle buffer with samples.:   0%|                                | 0.00/296M [00:00<?, ?B/s]\u001b[A\n",
      "Please wait, filling up the shuffle buffer with samples.:   0%|                      | 188k/296M [00:03<1:32:55, 55.6kB/s]\u001b[A\n",
      "Please wait, filling up the shuffle buffer with samples.:   4%|▉                      | 11.9M/296M [00:03<01:00, 4.91MB/s]\u001b[A\n",
      "Please wait, filling up the shuffle buffer with samples.:   8%|█▊                     | 23.6M/296M [00:03<00:25, 11.1MB/s]\u001b[A\n",
      "Please wait, filling up the shuffle buffer with samples.:  12%|██▋                    | 35.3M/296M [00:03<00:14, 18.6MB/s]\u001b[A\n",
      "Please wait, filling up the shuffle buffer with samples.:  16%|███▋                   | 47.1M/296M [00:03<00:09, 27.0MB/s]\u001b[A\n",
      "Please wait, filling up the shuffle buffer with samples.:  20%|████▌                  | 58.8M/296M [00:04<00:06, 37.2MB/s]\u001b[A\n",
      "Please wait, filling up the shuffle buffer with samples.:  24%|█████▍                 | 70.5M/296M [00:04<00:05, 46.2MB/s]\u001b[A\n",
      "Please wait, filling up the shuffle buffer with samples.:  28%|██████▍                | 82.2M/296M [00:04<00:04, 55.1MB/s]\u001b[A\n",
      "Please wait, filling up the shuffle buffer with samples.:  32%|███████▎               | 93.9M/296M [00:04<00:03, 66.6MB/s]\u001b[A\n",
      "Please wait, filling up the shuffle buffer with samples.:  36%|████████▌               | 106M/296M [00:04<00:02, 72.1MB/s]\u001b[A\n",
      "Please wait, filling up the shuffle buffer with samples.:  40%|█████████▌              | 117M/296M [00:04<00:02, 80.8MB/s]\u001b[A\n",
      "Please wait, filling up the shuffle buffer with samples.:  44%|██████████▍             | 129M/296M [00:04<00:01, 88.5MB/s]\u001b[A\n",
      "Please wait, filling up the shuffle buffer with samples.:  48%|███████████▍            | 141M/296M [00:04<00:01, 92.3MB/s]\u001b[A\n",
      "Please wait, filling up the shuffle buffer with samples.:  52%|████████████▍           | 153M/296M [00:05<00:01, 92.1MB/s]\u001b[A\n",
      "Please wait, filling up the shuffle buffer with samples.:  56%|█████████████▎          | 164M/296M [00:05<00:01, 99.6MB/s]\u001b[A\n",
      "Please wait, filling up the shuffle buffer with samples.:  60%|██████████████▎         | 176M/296M [00:05<00:01, 98.2MB/s]\u001b[A\n",
      "Please wait, filling up the shuffle buffer with samples.:  63%|███████████████▊         | 188M/296M [00:05<00:01, 103MB/s]\u001b[A\n",
      "Please wait, filling up the shuffle buffer with samples.:  67%|████████████████▊        | 199M/296M [00:05<00:00, 101MB/s]\u001b[A\n",
      "Please wait, filling up the shuffle buffer with samples.:  71%|█████████████████▊       | 211M/296M [00:05<00:00, 101MB/s]\u001b[A\n",
      "Please wait, filling up the shuffle buffer with samples.:  75%|██████████████████▊      | 223M/296M [00:05<00:00, 102MB/s]\u001b[A\n",
      "Please wait, filling up the shuffle buffer with samples.:  79%|███████████████████▊     | 235M/296M [00:05<00:00, 103MB/s]\u001b[A\n",
      "Please wait, filling up the shuffle buffer with samples.:  85%|█████████████████████▎   | 252M/296M [00:06<00:00, 101MB/s]\u001b[A\n",
      "Please wait, filling up the shuffle buffer with samples.:  89%|██████████████████████▎  | 264M/296M [00:06<00:00, 102MB/s]\u001b[A\n",
      "Please wait, filling up the shuffle buffer with samples.:  93%|███████████████████████▎ | 276M/296M [00:06<00:00, 107MB/s]\u001b[A\n",
      "Please wait, filling up the shuffle buffer with samples.: 100%|███████████████████████▉| 296M/296M [00:06<00:00, 48.3MB/s]\u001b[A\n"
     ]
    },
    {
     "name": "stdout",
     "output_type": "stream",
     "text": [
      "Shuffle buffer filling is complete.\n"
     ]
    },
    {
     "name": "stderr",
     "output_type": "stream",
     "text": [
      "/home/kaandonbekci/miniconda3/envs/ccu/lib/python3.11/site-packages/torch/nn/modules/conv.py:309: UserWarning: Applied workaround for CuDNN issue, install nvrtc.so (Triggered internally at /opt/conda/conda-bld/pytorch_1682343995622/work/aten/src/ATen/native/cudnn/Conv_v8.cpp:80.)\n",
      "  return F.conv1d(input, weight, bias, self.stride,\n",
      "100%|███████████████████████████████████████████████████████████████████████████████████| 200/200 [00:17<00:00, 11.13it/s]\n",
      "STAGE:2023-12-17 18:45:58 3422188:3422188 ActivityProfilerController.cpp:317] Completed Stage: Collection\n",
      "STAGE:2023-12-17 18:45:58 3422188:3422188 ActivityProfilerController.cpp:321] Completed Stage: Post Processing\n"
     ]
    },
    {
     "name": "stdout",
     "output_type": "stream",
     "text": [
      "Time to 1st batch: 6.55 seconds\n"
     ]
    },
    {
     "name": "stderr",
     "output_type": "stream",
     "text": [
      "/tmp/ipykernel_3422188/1012810662.py:6: RuntimeWarning: invalid value encountered in divide\n",
      "  audio = audio / np.abs(audio).max()  # peak normalize\n"
     ]
    }
   ],
   "source": [
    "tag = \"deeplake_local\"\n",
    "dataloader, single_worker_dataloader = build_deeplake_dataloader(local_deeplake_path)\n",
    "run_all_benchmarks(dataloader, single_worker_dataloader, tag=tag)"
   ]
  },
  {
   "cell_type": "code",
   "execution_count": 8,
   "id": "7f286c7b-1876-4e74-b8d5-20446579bda1",
   "metadata": {},
   "outputs": [
    {
     "name": "stdout",
     "output_type": "stream",
     "text": [
      "\n",
      "[2023-12-17_18-47-25]\t\n",
      "+-----------------------------------+\n",
      "|Beginning build_deeplake_dataloader|\n",
      "+-----------------------------------+\n"
     ]
    },
    {
     "name": "stderr",
     "output_type": "stream",
     "text": [
      "/"
     ]
    },
    {
     "name": "stdout",
     "output_type": "stream",
     "text": [
      "gcs://hpml-project/deeplake/ loaded successfully.\n",
      "\n"
     ]
    },
    {
     "name": "stderr",
     "output_type": "stream",
     "text": [
      " "
     ]
    },
    {
     "name": "stdout",
     "output_type": "stream",
     "text": [
      "[2023-12-17_18-48-09]\t\n",
      "+--------------------------------------------+\n",
      "|build_deeplake_dataloader took 44.42 seconds|\n",
      "+--------------------------------------------+\n",
      "\n"
     ]
    },
    {
     "name": "stderr",
     "output_type": "stream",
     "text": [
      "STAGE:2023-12-17 18:48:09 3422188:3422188 ActivityProfilerController.cpp:311] Completed Stage: Warm Up\n"
     ]
    },
    {
     "name": "stdout",
     "output_type": "stream",
     "text": [
      "Number of parameters of model: 64,628,259\n"
     ]
    },
    {
     "name": "stderr",
     "output_type": "stream",
     "text": [
      "  0%|                                                                                             | 0/200 [00:00<?, ?it/s]\n",
      "Please wait, filling up the shuffle buffer with samples.:   0%|                                | 0.00/296M [00:00<?, ?B/s]\u001b[A\n",
      "Please wait, filling up the shuffle buffer with samples.:   0%|                      | 188k/296M [00:11<4:58:55, 17.3kB/s]\u001b[A\n",
      "Please wait, filling up the shuffle buffer with samples.:   4%|▉                      | 11.9M/296M [00:12<03:38, 1.36MB/s]\u001b[A\n",
      "Please wait, filling up the shuffle buffer with samples.:  12%|██▋                    | 35.3M/296M [00:13<01:02, 4.38MB/s]\u001b[A\n",
      "Please wait, filling up the shuffle buffer with samples.:  16%|███▋                   | 47.1M/296M [00:14<00:47, 5.45MB/s]\u001b[A\n",
      "Please wait, filling up the shuffle buffer with samples.:  24%|█████▍                 | 70.5M/296M [00:16<00:27, 8.48MB/s]\u001b[A\n",
      "Please wait, filling up the shuffle buffer with samples.:  32%|███████▎               | 93.9M/296M [00:17<00:19, 11.0MB/s]\u001b[A\n",
      "Please wait, filling up the shuffle buffer with samples.:  36%|████████▌               | 106M/296M [00:18<00:18, 11.0MB/s]\u001b[A\n",
      "Please wait, filling up the shuffle buffer with samples.:  44%|██████████▍             | 129M/296M [00:19<00:12, 13.4MB/s]\u001b[A\n",
      "Please wait, filling up the shuffle buffer with samples.:  50%|███████████▉            | 147M/296M [00:20<00:10, 14.3MB/s]\u001b[A\n",
      "Please wait, filling up the shuffle buffer with samples.:  52%|████████████▍           | 153M/296M [00:20<00:09, 15.7MB/s]\u001b[A\n",
      "Please wait, filling up the shuffle buffer with samples.:  56%|█████████████▎          | 164M/296M [00:22<00:09, 14.0MB/s]\u001b[A\n",
      "Please wait, filling up the shuffle buffer with samples.:  63%|███████████████▏        | 188M/296M [00:23<00:07, 15.9MB/s]\u001b[A\n",
      "Please wait, filling up the shuffle buffer with samples.:  69%|████████████████▋       | 205M/296M [00:24<00:05, 16.1MB/s]\u001b[A\n",
      "Please wait, filling up the shuffle buffer with samples.:  71%|█████████████████▏      | 211M/296M [00:24<00:04, 17.8MB/s]\u001b[A\n",
      "Please wait, filling up the shuffle buffer with samples.:  75%|██████████████████      | 223M/296M [00:25<00:04, 15.3MB/s]\u001b[A\n",
      "Please wait, filling up the shuffle buffer with samples.:  81%|███████████████████▌    | 240M/296M [00:26<00:03, 15.0MB/s]\u001b[A\n",
      "Please wait, filling up the shuffle buffer with samples.:  85%|████████████████████▍   | 252M/296M [00:27<00:02, 19.4MB/s]\u001b[A\n",
      "Please wait, filling up the shuffle buffer with samples.:  87%|████████████████████▉   | 258M/296M [00:28<00:02, 13.9MB/s]\u001b[A\n",
      "Please wait, filling up the shuffle buffer with samples.:  92%|██████████████████████▏ | 273M/296M [00:28<00:01, 21.0MB/s]\u001b[A\n",
      "Please wait, filling up the shuffle buffer with samples.: 100%|███████████████████████▉| 296M/296M [00:29<00:00, 10.5MB/s]\u001b[A\n"
     ]
    },
    {
     "name": "stdout",
     "output_type": "stream",
     "text": [
      "Shuffle buffer filling is complete.\n"
     ]
    },
    {
     "name": "stderr",
     "output_type": "stream",
     "text": [
      " 38%|████████████████████████████████▎                                                   | 77/200 [00:55<01:27,  1.40it/s]\n",
      "STAGE:2023-12-17 18:49:05 3422188:3422188 ActivityProfilerController.cpp:317] Completed Stage: Collection\n",
      "STAGE:2023-12-17 18:49:05 3422188:3422188 ActivityProfilerController.cpp:321] Completed Stage: Post Processing\n",
      "\n",
      "KeyboardInterrupt\n",
      "\n"
     ]
    }
   ],
   "source": [
    "tag = \"deeplake_cloud\"\n",
    "dataloader, single_worker_dataloader = build_deeplake_dataloader(cloud_deeplake_path)\n",
    "run_all_benchmarks(dataloader, single_worker_dataloader, tag=tag)"
   ]
  },
  {
   "cell_type": "code",
   "execution_count": null,
   "id": "69dc3495-d7ea-4d16-b3cc-95b4f4e5ae5b",
   "metadata": {},
   "outputs": [],
   "source": []
  }
 ],
 "metadata": {
  "kernelspec": {
   "display_name": "Python 3 (ipykernel)",
   "language": "python",
   "name": "python3"
  },
  "language_info": {
   "codemirror_mode": {
    "name": "ipython",
    "version": 3
   },
   "file_extension": ".py",
   "mimetype": "text/x-python",
   "name": "python",
   "nbconvert_exporter": "python",
   "pygments_lexer": "ipython3",
   "version": "3.11.5"
  }
 },
 "nbformat": 4,
 "nbformat_minor": 5
}
