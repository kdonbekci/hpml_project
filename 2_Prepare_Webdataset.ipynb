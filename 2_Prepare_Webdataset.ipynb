{
 "cells": [
  {
   "cell_type": "markdown",
   "id": "cfd0bc79-f7f4-4da2-8057-0a178e7b1e3a",
   "metadata": {},
   "source": [
    "# 2. Create `webdataset` Tarballs\n",
    "\n",
    "notes"
   ]
  },
  {
   "cell_type": "code",
   "execution_count": 1,
   "id": "6a521f92-de19-44c7-9704-680fda05f91f",
   "metadata": {},
   "outputs": [],
   "source": [
    "import tarfile\n",
    "import IPython.display as ipd\n",
    "from pathlib import Path\n",
    "from utils import (\n",
    "    multicore_thread_process,\n",
    "    SAMPLE_RATE,\n",
    "    split_to_chunks_of_size,\n",
    "    split_to_n_chunks,\n",
    ")\n",
    "import numpy as np\n",
    "import json\n",
    "import soundfile as sf\n",
    "import io\n",
    "from tqdm import tqdm"
   ]
  },
  {
   "cell_type": "code",
   "execution_count": 2,
   "id": "83863e13-31a9-403d-a0b8-d6f7fa94102e",
   "metadata": {},
   "outputs": [],
   "source": [
    "def tar_single_chunk(\n",
    "    tarpath_chunk_flacfiles: tuple[Path, list[Path]],\n",
    "    dataset_directory: Path,\n",
    "    label_to_ix: dict,\n",
    "):\n",
    "    tarpath, chunk_flacfiles = tarpath_chunk_flacfiles\n",
    "    tar = tarfile.open(name=tarpath, mode=\"w\")\n",
    "    for flacfile in chunk_flacfiles:\n",
    "        metadata_file = flacfile.with_suffix(\".json\")\n",
    "        assert metadata_file.exists(), f\"{str(metadata_file)} does not exist!\"\n",
    "        tar.add(flacfile, arcname=flacfile.relative_to(dataset_directory.parent))\n",
    "        tar.add(\n",
    "            metadata_file, arcname=metadata_file.relative_to(dataset_directory.parent)\n",
    "        )\n",
    "    tar.close()"
   ]
  },
  {
   "cell_type": "code",
   "execution_count": 3,
   "id": "1a53c788-2746-4656-84fe-ef58f3e49a0a",
   "metadata": {},
   "outputs": [],
   "source": [
    "dataset_directory = Path(\"./data/common_voice/\")"
   ]
  },
  {
   "cell_type": "code",
   "execution_count": 4,
   "id": "f92c62b6-3516-415b-94f3-47109c62186e",
   "metadata": {},
   "outputs": [],
   "source": [
    "flacfiles = sorted(dataset_directory.glob(\"*.flac\"))\n",
    "np.random.seed(42)  # deterministically shuffle the flacfiles\n",
    "np.random.shuffle(flacfiles)"
   ]
  },
  {
   "cell_type": "code",
   "execution_count": 5,
   "id": "d0dc536e-9eb5-4109-b6a5-2edd85cdf575",
   "metadata": {},
   "outputs": [],
   "source": [
    "webdataset_directory = Path(\"./data/webdataset_small_chunk/\")\n",
    "webdataset_directory.mkdir(exist_ok=True)"
   ]
  },
  {
   "cell_type": "code",
   "execution_count": 6,
   "id": "add3be57-4074-4933-839f-09a91a48faaa",
   "metadata": {},
   "outputs": [],
   "source": [
    "chunk_size = 64\n",
    "# chunk_size = 2048\n",
    "chunked_flacfiles = list(\n",
    "    split_to_chunks_of_size(flacfiles, chunk_size=chunk_size, shuffle=False)\n",
    ")"
   ]
  },
  {
   "cell_type": "code",
   "execution_count": 7,
   "id": "39797e9d-971e-4325-b010-be16e381fecc",
   "metadata": {},
   "outputs": [],
   "source": [
    "with open(\"label_to_ix.json\") as f:\n",
    "    label_to_ix = json.load(f)"
   ]
  },
  {
   "cell_type": "code",
   "execution_count": 8,
   "id": "2d0e28f0-188b-4acd-9d9e-d24cffbfe0cb",
   "metadata": {},
   "outputs": [
    {
     "name": "stdout",
     "output_type": "stream",
     "text": [
      "Last chunk has 46 samples\n"
     ]
    }
   ],
   "source": [
    "print(f\"Last chunk has {len(chunked_flacfiles[-1])} samples\")"
   ]
  },
  {
   "cell_type": "code",
   "execution_count": 10,
   "id": "e42b3a9d-ad63-48eb-aa2a-c87243113747",
   "metadata": {},
   "outputs": [
    {
     "data": {
      "text/plain": [
       "26729"
      ]
     },
     "execution_count": 10,
     "metadata": {},
     "output_type": "execute_result"
    }
   ],
   "source": [
    "len(chunked_flacfiles)"
   ]
  },
  {
   "cell_type": "code",
   "execution_count": 11,
   "id": "68f18c95-507c-4284-95b7-73909f4398e6",
   "metadata": {},
   "outputs": [
    {
     "name": "stdout",
     "output_type": "stream",
     "text": [
      "Will create 836 tarballs\n"
     ]
    }
   ],
   "source": [
    "print(f\"Will create {len(chunked_flacfiles)} tarballs\")"
   ]
  },
  {
   "cell_type": "code",
   "execution_count": 11,
   "id": "63245d59-734e-4de0-8779-2af6bb178867",
   "metadata": {},
   "outputs": [],
   "source": [
    "tarpaths = [\n",
    "    webdataset_directory / f\"common_voice_{i:05}.tar\"\n",
    "    for i in range(len(chunked_flacfiles))\n",
    "]"
   ]
  },
  {
   "cell_type": "code",
   "execution_count": 13,
   "id": "5693943e-861e-40dc-b8f3-99a555818b19",
   "metadata": {},
   "outputs": [],
   "source": [
    "num_workers = 4"
   ]
  },
  {
   "cell_type": "code",
   "execution_count": 14,
   "id": "735ca832-f065-4586-a25d-3756a3bdd6ae",
   "metadata": {},
   "outputs": [],
   "source": [
    "args = list(split_to_n_chunks(list(zip(tarpaths, chunked_flacfiles)), n=num_workers))"
   ]
  },
  {
   "cell_type": "code",
   "execution_count": 15,
   "id": "c5b2e699-2eb7-4120-a619-c787479cd7c7",
   "metadata": {},
   "outputs": [
    {
     "name": "stdout",
     "output_type": "stream",
     "text": [
      "\n",
      "[2023-12-13_21-40-12]\t\n",
      "+----------------------------------+\n",
      "|Beginning multicore_thread_process|\n",
      "+----------------------------------+\n"
     ]
    },
    {
     "name": "stderr",
     "output_type": "stream",
     "text": [
      "Worker: 0: 100%|██████████████████████████████████████████████████████████████████████| 6683/6683 [23:50<00:00,  4.67it/s]\n",
      "Worker: 3: 100%|██████████████████████████████████████████████████████████████████████| 6680/6680 [23:53<00:00,  4.66it/s]\n",
      "Worker: 1: 100%|██████████████████████████████████████████████████████████████████████| 6683/6683 [24:02<00:00,  4.63it/s]\n",
      "Worker: 2: 100%|██████████████████████████████████████████████████████████████████████| 6683/6683 [24:01<00:00,  4.64it/s]\n"
     ]
    },
    {
     "name": "stdout",
     "output_type": "stream",
     "text": [
      "[2023-12-13_22-04-22]\t\n",
      "+-------------------------------------------+\n",
      "|multicore_thread_process took 24.16 minutes|\n",
      "+-------------------------------------------+\n",
      "\n"
     ]
    }
   ],
   "source": [
    "_ = multicore_thread_process(\n",
    "    num_workers=num_workers,\n",
    "    num_threads=4,\n",
    "    fn=tar_single_chunk,\n",
    "    chunked_args=args,\n",
    "    dataset_directory=dataset_directory,\n",
    "    label_to_ix=label_to_ix,\n",
    ")"
   ]
  },
  {
   "cell_type": "code",
   "execution_count": null,
   "id": "abf8d4c0-d452-4eae-848b-b98f7eb4c752",
   "metadata": {},
   "outputs": [],
   "source": []
  }
 ],
 "metadata": {
  "kernelspec": {
   "display_name": "Python 3 (ipykernel)",
   "language": "python",
   "name": "python3"
  },
  "language_info": {
   "codemirror_mode": {
    "name": "ipython",
    "version": 3
   },
   "file_extension": ".py",
   "mimetype": "text/x-python",
   "name": "python",
   "nbconvert_exporter": "python",
   "pygments_lexer": "ipython3",
   "version": "3.11.5"
  }
 },
 "nbformat": 4,
 "nbformat_minor": 5
}
