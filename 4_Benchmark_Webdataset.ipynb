{
 "cells": [
  {
   "cell_type": "markdown",
   "id": "f85eb46c-fc41-434c-9bc4-0977dfdc2d1f",
   "metadata": {},
   "source": [
    "# 4. Benchmark `webdataset`"
   ]
  },
  {
   "cell_type": "code",
   "execution_count": 3,
   "id": "a83306b9-b100-48ab-9a37-f4a371022967",
   "metadata": {},
   "outputs": [],
   "source": [
    "import webdataset as wds\n",
    "import io\n",
    "import numpy as np\n",
    "from pathlib import Path\n",
    "import soundfile as sf\n",
    "import json\n",
    "import IPython.display as ipd\n",
    "from utils import time_me, time_me_seconds, SAMPLE_RATE\n",
    "from benchmarks import run_all_benchmarks"
   ]
  },
  {
   "cell_type": "code",
   "execution_count": 4,
   "id": "503d405a-ee34-42ab-aeb5-563b9dbb51c6",
   "metadata": {},
   "outputs": [],
   "source": [
    "def webdataset_parser():\n",
    "    def parse(datum):\n",
    "        audio, _ = sf.read(io.BytesIO(datum[\"flac\"]), dtype=\"float32\")\n",
    "        audio = audio / np.abs(audio).max()  # peak normalize\n",
    "        datum[\"audio\"] = audio\n",
    "        del datum[\"flac\"]\n",
    "        for key, val in json.loads(datum[\"json\"]).items():\n",
    "            datum[key] = val\n",
    "        del datum[\"json\"]\n",
    "        del datum[\"sentence\"]\n",
    "        del datum[\"duration\"]\n",
    "        return datum\n",
    "\n",
    "    return wds.map(parse)"
   ]
  },
  {
   "cell_type": "code",
   "execution_count": 5,
   "id": "8c0eb147-e3f0-4e5b-8311-7203631a85e3",
   "metadata": {},
   "outputs": [],
   "source": [
    "def webdataset_cropper(crop_duration: float):\n",
    "    crop_samples = int(SAMPLE_RATE * crop_duration)\n",
    "\n",
    "    def crop(datum):\n",
    "        num_samples = datum[\"audio\"].shape[0]\n",
    "        assert num_samples != 0\n",
    "        if num_samples < crop_samples:\n",
    "            # pad if input is short\n",
    "            datum[\"audio\"] = np.pad(datum[\"audio\"], (0, crop_samples - num_samples))\n",
    "        elif num_samples > crop_samples:\n",
    "            # crop if it is too long\n",
    "            rand_start = np.random.randint(0, num_samples - crop_samples)\n",
    "            datum[\"audio\"] = datum[\"audio\"][rand_start : rand_start + crop_samples]\n",
    "        else:\n",
    "            # just right :)\n",
    "            pass\n",
    "        assert datum[\"audio\"].shape[0] == crop_samples\n",
    "        datum[\"audio\"] = datum[\"audio\"][None, :]\n",
    "        return datum\n",
    "\n",
    "    return wds.map(crop)"
   ]
  },
  {
   "cell_type": "code",
   "execution_count": 6,
   "id": "0f5bc472-3ae0-456f-827e-47b672d6f73c",
   "metadata": {},
   "outputs": [],
   "source": [
    "def webdataset_redict():\n",
    "    def redict(datum):\n",
    "        return {\n",
    "            \"audio\": datum[0],\n",
    "            \"accent\": datum[1],\n",
    "            \"age\": datum[2],\n",
    "            \"gender\": datum[3],\n",
    "        }\n",
    "\n",
    "    return wds.map(redict)"
   ]
  },
  {
   "cell_type": "code",
   "execution_count": 7,
   "id": "77ed0de7-758d-4fa0-81af-fa0254e4a486",
   "metadata": {},
   "outputs": [],
   "source": [
    "@time_me_seconds\n",
    "def build_webdataset_dataloader(\n",
    "    urls,\n",
    "    crop_duration=3.0,\n",
    "    batch_size=32,\n",
    "    shuffle_buffer=2048,\n",
    "    num_workers=4,\n",
    "    pin_memory=True,\n",
    "):\n",
    "    data_pipeline = [\n",
    "        wds.SimpleShardList(urls),\n",
    "        wds.shuffle(),\n",
    "        wds.split_by_worker,\n",
    "        wds.tarfile_to_samples(),\n",
    "        wds.shuffle(bufsize=shuffle_buffer, initial=shuffle_buffer),\n",
    "        webdataset_parser(),\n",
    "        webdataset_cropper(crop_duration=crop_duration),\n",
    "        wds.to_tuple(\"audio\", \"accent\", \"gender\", \"age\"),\n",
    "        wds.batched(batchsize=batch_size),\n",
    "        webdataset_redict(),\n",
    "    ]\n",
    "    webdataset = wds.DataPipeline(*data_pipeline)\n",
    "    dataloader = wds.WebLoader(\n",
    "        webdataset,\n",
    "        num_workers=num_workers,\n",
    "        batch_size=None,\n",
    "        prefetch_factor=2,\n",
    "        pin_memory=pin_memory,\n",
    "    )\n",
    "    single_worker_dataloader = wds.WebLoader(\n",
    "        webdataset,\n",
    "        num_workers=0,\n",
    "        batch_size=None,\n",
    "        prefetch_factor=None,\n",
    "        pin_memory=pin_memory,\n",
    "    )\n",
    "    return dataloader, single_worker_dataloader"
   ]
  },
  {
   "cell_type": "code",
   "execution_count": 8,
   "id": "887c07d9-d2ba-48af-80bf-2c70e5130f1e",
   "metadata": {},
   "outputs": [],
   "source": [
    "local_urls = \"./data/webdataset/common_voice_{000..835}.tar\"\n",
    "\n",
    "local_urls_small_chunk = \"./data/webdataset_small_chunk/common_voice_{00000..26728}.tar\"\n",
    "\n",
    "\n",
    "cloud_urls = (\n",
    "    \"https://storage.googleapis.com/hpml-project/webdataset/common_voice_{000..835}.tar\"\n",
    ")\n",
    "cloud_urls_small_chunk = \"https://storage.googleapis.com/hpml-project/webdataset_small_chunk/common_voice_{00000..26728}.tar\""
   ]
  },
  {
   "cell_type": "code",
   "execution_count": 9,
   "id": "9af64b12-3f85-4fcc-a665-646653fa563e",
   "metadata": {},
   "outputs": [
    {
     "name": "stdout",
     "output_type": "stream",
     "text": [
      "\n",
      "[2023-12-17_18-50-48]\t\n",
      "+-------------------------------------+\n",
      "|Beginning build_webdataset_dataloader|\n",
      "+-------------------------------------+\n",
      "[2023-12-17_18-50-48]\t\n",
      "+---------------------------------------------+\n",
      "|build_webdataset_dataloader took 0.00 seconds|\n",
      "+---------------------------------------------+\n",
      "\n"
     ]
    },
    {
     "name": "stderr",
     "output_type": "stream",
     "text": [
      "STAGE:2023-12-17 18:50:48 3423032:3423032 ActivityProfilerController.cpp:311] Completed Stage: Warm Up\n"
     ]
    },
    {
     "name": "stdout",
     "output_type": "stream",
     "text": [
      "Number of parameters of model: 64,628,259\n"
     ]
    },
    {
     "name": "stderr",
     "output_type": "stream",
     "text": [
      "  0%|                                                                                             | 0/200 [00:00<?, ?it/s]/home/kaandonbekci/miniconda3/envs/ccu/lib/python3.11/site-packages/torch/nn/modules/conv.py:309: UserWarning: Applied workaround for CuDNN issue, install nvrtc.so (Triggered internally at /opt/conda/conda-bld/pytorch_1682343995622/work/aten/src/ATen/native/cudnn/Conv_v8.cpp:80.)\n",
      "  return F.conv1d(input, weight, bias, self.stride,\n",
      "100%|███████████████████████████████████████████████████████████████████████████████████| 200/200 [00:14<00:00, 13.54it/s]\n",
      "STAGE:2023-12-17 18:51:03 3423032:3423032 ActivityProfilerController.cpp:317] Completed Stage: Collection\n",
      "STAGE:2023-12-17 18:51:03 3423032:3423032 ActivityProfilerController.cpp:321] Completed Stage: Post Processing\n"
     ]
    },
    {
     "name": "stdout",
     "output_type": "stream",
     "text": [
      "Time to 1st batch: 2.12 seconds\n"
     ]
    }
   ],
   "source": [
    "tag = \"webdataset_local\"\n",
    "dataloader, single_worker_dataloader = build_webdataset_dataloader(local_urls)\n",
    "run_all_benchmarks(dataloader, single_worker_dataloader, tag=tag)"
   ]
  },
  {
   "cell_type": "code",
   "execution_count": 10,
   "id": "ca409a85-31cd-4180-9e8b-a949f0d610cd",
   "metadata": {},
   "outputs": [
    {
     "name": "stdout",
     "output_type": "stream",
     "text": [
      "\n",
      "[2023-12-17_18-54-30]\t\n",
      "+-------------------------------------+\n",
      "|Beginning build_webdataset_dataloader|\n",
      "+-------------------------------------+\n",
      "[2023-12-17_18-54-30]\t\n",
      "+---------------------------------------------+\n",
      "|build_webdataset_dataloader took 0.03 seconds|\n",
      "+---------------------------------------------+\n",
      "\n",
      "Number of parameters of model: 64,628,259\n"
     ]
    },
    {
     "name": "stderr",
     "output_type": "stream",
     "text": [
      "STAGE:2023-12-17 18:54:30 3423032:3423032 ActivityProfilerController.cpp:311] Completed Stage: Warm Up\n",
      "100%|███████████████████████████████████████████████████████████████████████████████████| 200/200 [00:14<00:00, 13.81it/s]\n",
      "STAGE:2023-12-17 18:54:44 3423032:3423032 ActivityProfilerController.cpp:317] Completed Stage: Collection\n",
      "STAGE:2023-12-17 18:54:45 3423032:3423032 ActivityProfilerController.cpp:321] Completed Stage: Post Processing\n"
     ]
    },
    {
     "name": "stdout",
     "output_type": "stream",
     "text": [
      "Time to 1st batch: 1.83 seconds\n"
     ]
    }
   ],
   "source": [
    "tag = \"webdataset_local_small_chunk\"\n",
    "dataloader, single_worker_dataloader = build_webdataset_dataloader(\n",
    "    local_urls_small_chunk\n",
    ")\n",
    "run_all_benchmarks(dataloader, single_worker_dataloader, tag=tag)"
   ]
  },
  {
   "cell_type": "code",
   "execution_count": 11,
   "id": "cfac938f-75f4-4801-8903-24c37434978b",
   "metadata": {},
   "outputs": [
    {
     "name": "stdout",
     "output_type": "stream",
     "text": [
      "\n",
      "[2023-12-17_18-54-58]\t\n",
      "+-------------------------------------+\n",
      "|Beginning build_webdataset_dataloader|\n",
      "+-------------------------------------+\n",
      "[2023-12-17_18-54-58]\t\n",
      "+---------------------------------------------+\n",
      "|build_webdataset_dataloader took 0.00 seconds|\n",
      "+---------------------------------------------+\n",
      "\n",
      "Number of parameters of model: 64,628,259\n"
     ]
    },
    {
     "name": "stderr",
     "output_type": "stream",
     "text": [
      "STAGE:2023-12-17 18:54:58 3423032:3423032 ActivityProfilerController.cpp:311] Completed Stage: Warm Up\n",
      "100%|███████████████████████████████████████████████████████████████████████████████████| 200/200 [00:28<00:00,  6.91it/s]\n",
      "STAGE:2023-12-17 18:55:27 3423032:3423032 ActivityProfilerController.cpp:317] Completed Stage: Collection\n",
      "STAGE:2023-12-17 18:55:27 3423032:3423032 ActivityProfilerController.cpp:321] Completed Stage: Post Processing\n"
     ]
    },
    {
     "name": "stdout",
     "output_type": "stream",
     "text": [
      "Time to 1st batch: 14.32 seconds\n"
     ]
    }
   ],
   "source": [
    "tag = \"webdataset_cloud\"\n",
    "dataloader, single_worker_dataloader = build_webdataset_dataloader(cloud_urls)\n",
    "run_all_benchmarks(dataloader, single_worker_dataloader, tag=tag)"
   ]
  },
  {
   "cell_type": "code",
   "execution_count": 12,
   "id": "f26afe8d-6393-4fab-a462-cbd8d081a4b6",
   "metadata": {},
   "outputs": [
    {
     "name": "stdout",
     "output_type": "stream",
     "text": [
      "\n",
      "[2023-12-17_18-55-56]\t\n",
      "+-------------------------------------+\n",
      "|Beginning build_webdataset_dataloader|\n",
      "+-------------------------------------+\n",
      "[2023-12-17_18-55-56]\t\n",
      "+---------------------------------------------+\n",
      "|build_webdataset_dataloader took 0.03 seconds|\n",
      "+---------------------------------------------+\n",
      "\n"
     ]
    },
    {
     "name": "stderr",
     "output_type": "stream",
     "text": [
      "STAGE:2023-12-17 18:55:56 3423032:3423032 ActivityProfilerController.cpp:311] Completed Stage: Warm Up\n"
     ]
    },
    {
     "name": "stdout",
     "output_type": "stream",
     "text": [
      "Number of parameters of model: 64,628,259\n"
     ]
    },
    {
     "name": "stderr",
     "output_type": "stream",
     "text": [
      "100%|███████████████████████████████████████████████████████████████████████████████████| 200/200 [01:18<00:00,  2.55it/s]\n",
      "STAGE:2023-12-17 18:57:14 3423032:3423032 ActivityProfilerController.cpp:317] Completed Stage: Collection\n",
      "STAGE:2023-12-17 18:57:14 3423032:3423032 ActivityProfilerController.cpp:321] Completed Stage: Post Processing\n"
     ]
    },
    {
     "name": "stdout",
     "output_type": "stream",
     "text": [
      "Time to 1st batch: 40.23 seconds\n"
     ]
    }
   ],
   "source": [
    "tag = \"webdataset_cloud_small_chunk\"\n",
    "dataloader, single_worker_dataloader = build_webdataset_dataloader(\n",
    "    cloud_urls_small_chunk\n",
    ")\n",
    "run_all_benchmarks(dataloader, single_worker_dataloader, tag=tag)"
   ]
  },
  {
   "cell_type": "code",
   "execution_count": null,
   "id": "3f59a157-0dbb-4fa7-bbba-c2f3bb6501b4",
   "metadata": {},
   "outputs": [],
   "source": []
  }
 ],
 "metadata": {
  "kernelspec": {
   "display_name": "Python 3 (ipykernel)",
   "language": "python",
   "name": "python3"
  },
  "language_info": {
   "codemirror_mode": {
    "name": "ipython",
    "version": 3
   },
   "file_extension": ".py",
   "mimetype": "text/x-python",
   "name": "python",
   "nbconvert_exporter": "python",
   "pygments_lexer": "ipython3",
   "version": "3.11.5"
  }
 },
 "nbformat": 4,
 "nbformat_minor": 5
}
