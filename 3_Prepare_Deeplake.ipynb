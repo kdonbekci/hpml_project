{
 "cells": [
  {
   "cell_type": "markdown",
   "id": "c1276ac5-630b-4f9c-a249-e0e913204360",
   "metadata": {},
   "source": [
    "# 3. Prepare `deeplake` dataset"
   ]
  },
  {
   "cell_type": "code",
   "execution_count": 9,
   "id": "d39f83e4-95c9-44c3-bee6-516bbc009710",
   "metadata": {},
   "outputs": [],
   "source": [
    "from pathlib import Path\n",
    "import deeplake\n",
    "import numpy as np\n",
    "import json\n",
    "import shutil\n",
    "from utils import time_me"
   ]
  },
  {
   "cell_type": "code",
   "execution_count": 2,
   "id": "390bc7ae-17ba-45a6-bb89-54836c87c55a",
   "metadata": {},
   "outputs": [],
   "source": [
    "deeplake_directory = Path(\"./data/deeplake\")"
   ]
  },
  {
   "cell_type": "code",
   "execution_count": 3,
   "id": "82b222d3-d38e-48c2-b0e8-5b42df802854",
   "metadata": {},
   "outputs": [],
   "source": [
    "# shutil.rmtree(deeplake_directory)"
   ]
  },
  {
   "cell_type": "code",
   "execution_count": 4,
   "id": "778b526d-0576-4f34-82d2-afc8d78246d2",
   "metadata": {},
   "outputs": [],
   "source": [
    "dataset_directory = Path(\"./data/common_voice/\")\n",
    "with open(\"label_to_ix.json\") as f:\n",
    "    label_to_ix = json.load(f)\n",
    "ix_to_label = {\n",
    "    key_: {val: key for key, val in val_.items()} for key_, val_ in label_to_ix.items()\n",
    "}"
   ]
  },
  {
   "cell_type": "code",
   "execution_count": 5,
   "id": "3acdacd6-808c-4783-84fb-deae024db8aa",
   "metadata": {},
   "outputs": [
    {
     "name": "stdout",
     "output_type": "stream",
     "text": [
      "data/deeplake loaded successfully.\n"
     ]
    },
    {
     "name": "stderr",
     "output_type": "stream",
     "text": []
    }
   ],
   "source": [
    "ds = deeplake.empty(deeplake_directory)"
   ]
  },
  {
   "cell_type": "code",
   "execution_count": 6,
   "id": "1716ad66-b371-48bf-8e40-c3a9b055eef0",
   "metadata": {},
   "outputs": [
    {
     "name": "stderr",
     "output_type": "stream",
     "text": []
    }
   ],
   "source": [
    "with ds:\n",
    "    ds.create_tensor(\"audio\", htype=\"audio\", sample_compression=\"flac\")\n",
    "    ds.create_tensor(\"sentence\", htype=\"text\")\n",
    "    ds.create_tensor(\"duration\", htype=\"generic\", dtype=np.float32)\n",
    "    ds.create_tensor(\n",
    "        \"gender\",\n",
    "        htype=\"class_label\",\n",
    "        class_names=[\n",
    "            ix_to_label[\"gender\"][i] for i in range(len(label_to_ix[\"gender\"]))\n",
    "        ],\n",
    "    )\n",
    "    ds.create_tensor(\n",
    "        \"age\",\n",
    "        htype=\"class_label\",\n",
    "        class_names=[ix_to_label[\"age\"][i] for i in range(len(label_to_ix[\"age\"]))],\n",
    "    )\n",
    "    ds.create_tensor(\n",
    "        \"accent\",\n",
    "        htype=\"class_label\",\n",
    "        class_names=[\n",
    "            ix_to_label[\"accent\"][i] for i in range(len(label_to_ix[\"accent\"]))\n",
    "        ],\n",
    "    )\n",
    "\n",
    "    ds.info.update(description=\"Deep Lake dataset for Mozilla Common Voice\")"
   ]
  },
  {
   "cell_type": "code",
   "execution_count": 7,
   "id": "6aa0bddb-c7ec-43c0-bd51-f68b60bdb1fe",
   "metadata": {},
   "outputs": [],
   "source": [
    "flacfiles = list(dataset_directory.glob(\"*.flac\"))"
   ]
  },
  {
   "cell_type": "code",
   "execution_count": 8,
   "id": "ef8af5d4-9fdd-4e43-b60e-ece22f886c0f",
   "metadata": {},
   "outputs": [],
   "source": [
    "@deeplake.compute\n",
    "def flac_to_deeplake(flacfile, sample_out):\n",
    "    ## First two arguments are always default arguments containing:\n",
    "    #     1st argument is an element of the input iterable (list, dataset, array,...)\n",
    "    #     2nd argument is a dataset sample\n",
    "    # Other arguments are optional\n",
    "\n",
    "    # Find the label number corresponding to the file\n",
    "    metadata_file = flacfile.with_suffix(\".json\")\n",
    "    with open(metadata_file) as f:\n",
    "        metadata = json.load(f)\n",
    "\n",
    "    # Append the label and image to the output sample\n",
    "    sample_out.append(\n",
    "        {\n",
    "            \"audio\": deeplake.read(str(flacfile)),\n",
    "            \"sentence\": metadata[\"sentence\"],\n",
    "            \"duration\": np.float32(metadata[\"duration\"]),\n",
    "            \"accent\": np.uint32(metadata[\"accent\"]),\n",
    "            \"age\": np.uint32(metadata[\"age\"]),\n",
    "            \"gender\": np.uint32(metadata[\"gender\"]),\n",
    "            \"client\": np.uint32(metadata[\"client\"]),\n",
    "        }\n",
    "    )\n",
    "\n",
    "    return sample_out"
   ]
  },
  {
   "cell_type": "code",
   "execution_count": 11,
   "id": "38ec3213-089c-4367-80c6-bff69e520aa3",
   "metadata": {},
   "outputs": [],
   "source": [
    "@time_me\n",
    "def commit_files_to_ds(flacfiles, ds):\n",
    "    with ds:\n",
    "        # Iterate through the files and append to Deep Lake dataset\n",
    "        flac_to_deeplake().eval(flacfiles, ds, num_workers=8)"
   ]
  },
  {
   "cell_type": "code",
   "execution_count": 13,
   "id": "10749e06-7026-4ea1-9965-fa15e7d62b45",
   "metadata": {},
   "outputs": [
    {
     "name": "stdout",
     "output_type": "stream",
     "text": [
      "\n",
      "[2023-12-13_21-27-02]\t\n",
      "+----------------------------+\n",
      "|Beginning commit_files_to_ds|\n",
      "+----------------------------+\n"
     ]
    },
    {
     "name": "stderr",
     "output_type": "stream",
     "text": []
    },
    {
     "name": "stderr",
     "output_type": "stream",
     "text": [
      "Evaluating flac_to_deeplake: 100%|██████████████████████████████████████████████████████████| 1710638/1710638 [45:31<00:00"
     ]
    },
    {
     "name": "stdout",
     "output_type": "stream",
     "text": [
      "Synchronizing class labels...\n"
     ]
    },
    {
     "name": "stderr",
     "output_type": "stream",
     "text": []
    },
    {
     "name": "stderr",
     "output_type": "stream",
     "text": [
      "\n",
      "Evaluating class_label_sync: 0%|                                                                      | 0/1710638 [00:00<?\u001b[A\n",
      "Evaluating flac_to_deeplake: 100%|██████████████████████████████████████████████████████████| 1710638/1710638 [45:41<00:00\u001b[A\n",
      "Evaluating class_label_sync: 13%|███████▉                                                    | 226964/1710638 [00:10<01:08\u001b[A\n",
      "Evaluating class_label_sync: 21%|████████████▍                                               | 353697/1710638 [00:15<00:58\u001b[A\n",
      "Evaluating class_label_sync: 28%|████████████████▉                                           | 481969/1710638 [00:20<00:50\u001b[A\n",
      "Evaluating class_label_sync: 35%|█████████████████████▎                                      | 607133/1710638 [00:25<00:45\u001b[A\n",
      "Evaluating class_label_sync: 43%|█████████████████████████▌                                  | 729732/1710638 [00:30<00:40\u001b[A\n",
      "Evaluating class_label_sync: 50%|█████████████████████████████▉                              | 852971/1710638 [00:35<00:34\u001b[A\n",
      "Evaluating class_label_sync: 57%|██████████████████████████████████▎                         | 976493/1710638 [00:40<00:29\u001b[A\n",
      "Evaluating class_label_sync: 64%|█████████████████████████████████████▉                     | 1099135/1710638 [00:46<00:26\u001b[A\n",
      "Evaluating class_label_sync: 72%|██████████████████████████████████████████▏                | 1224472/1710638 [00:51<00:20\u001b[A\n",
      "Evaluating class_label_sync: 79%|██████████████████████████████████████████████▌            | 1349947/1710638 [00:56<00:14\u001b[A\n",
      "Evaluating class_label_sync: 86%|██████████████████████████████████████████████████▊        | 1472250/1710638 [01:01<00:09\u001b[A\n",
      "Evaluating class_label_sync: 94%|███████████████████████████████████████████████████████▏   | 1599559/1710638 [01:06<00:04\u001b[A\n",
      "Evaluating class_label_sync: 94%|███████████████████████████████████████████████████████▏   | 1599559/1710638 [01:21<00:04\u001b[A\n",
      "Evaluating class_label_sync: 100%|██████████████████████████████████████████████████████████| 1710638/1710638 [01:42<00:00\u001b[A\n"
     ]
    },
    {
     "name": "stdout",
     "output_type": "stream",
     "text": [
      "Synchronizing class labels...\n"
     ]
    },
    {
     "name": "stderr",
     "output_type": "stream",
     "text": []
    },
    {
     "name": "stderr",
     "output_type": "stream",
     "text": [
      "\n",
      "Evaluating class_label_sync: 0%|                                                                      | 0/1710638 [00:00<?\u001b[A\n",
      "Evaluating class_label_sync: 7%|████▎                                                        | 120075/1710638 [00:05<01:11\u001b[A\n",
      "Evaluating class_label_sync: 15%|████████▋                                                   | 249283/1710638 [00:10<01:00\u001b[A\n",
      "Evaluating class_label_sync: 21%|████████████▊                                               | 365283/1710638 [00:15<00:56\u001b[A\n",
      "Evaluating class_label_sync: 29%|█████████████████▌                                          | 498990/1710638 [00:20<00:48\u001b[A\n",
      "Evaluating class_label_sync: 37%|██████████████████████▏                                     | 632564/1710638 [00:25<00:42\u001b[A\n",
      "Evaluating class_label_sync: 45%|██████████████████████████▊                                 | 764655/1710638 [00:30<00:36\u001b[A\n",
      "Evaluating class_label_sync: 52%|███████████████████████████████▍                            | 897876/1710638 [00:35<00:31\u001b[A\n",
      "Evaluating class_label_sync: 60%|███████████████████████████████████▌                       | 1030906/1710638 [00:40<00:25\u001b[A\n",
      "Evaluating class_label_sync: 68%|████████████████████████████████████████                   | 1163317/1710638 [00:45<00:20\u001b[A\n",
      "Evaluating class_label_sync: 74%|███████████████████████████████████████████▊               | 1270930/1710638 [00:50<00:17\u001b[A\n",
      "Evaluating class_label_sync: 82%|████████████████████████████████████████████████▎          | 1401088/1710638 [00:55<00:12\u001b[A\n",
      "Evaluating class_label_sync: 90%|████████████████████████████████████████████████████▊      | 1531798/1710638 [01:00<00:07\u001b[A\n",
      "Evaluating class_label_sync: 97%|█████████████████████████████████████████████████████████▍ | 1664423/1710638 [01:05<00:01\u001b[A\n",
      "Evaluating class_label_sync: 97%|█████████████████████████████████████████████████████████▍ | 1664423/1710638 [01:17<00:01\u001b[A\n",
      "Evaluating class_label_sync: 100%|██████████████████████████████████████████████████████████| 1710638/1710638 [01:35<00:00\u001b[A"
     ]
    },
    {
     "name": "stdout",
     "output_type": "stream",
     "text": [
      "Synchronizing class labels...\n"
     ]
    },
    {
     "name": "stderr",
     "output_type": "stream",
     "text": [
      "\n",
      "\n",
      "Evaluating class_label_sync: 0%|                                                                      | 0/1710638 [00:00<?\u001b[A\n",
      "Evaluating class_label_sync: 8%|████▋                                                        | 131212/1710638 [00:05<01:04\u001b[A\n",
      "Evaluating class_label_sync: 15%|█████████▏                                                  | 262404/1710638 [00:10<00:56\u001b[A\n",
      "Evaluating class_label_sync: 23%|█████████████▊                                              | 395051/1710638 [00:15<00:50\u001b[A\n",
      "Evaluating class_label_sync: 30%|█████████████████▊                                          | 508683/1710638 [00:20<00:48\u001b[A\n",
      "Evaluating class_label_sync: 37%|██████████████████████▍                                     | 639955/1710638 [00:25<00:42\u001b[A\n",
      "Evaluating class_label_sync: 45%|███████████████████████████                                 | 771245/1710638 [00:30<00:36\u001b[A\n",
      "Evaluating class_label_sync: 53%|███████████████████████████████▋                            | 902697/1710638 [00:35<00:31\u001b[A\n",
      "Evaluating class_label_sync: 60%|███████████████████████████████████▋                       | 1034733/1710638 [00:40<00:25\u001b[A\n",
      "Evaluating class_label_sync: 68%|████████████████████████████████████████▏                  | 1166637/1710638 [00:45<00:20\u001b[A\n",
      "Evaluating class_label_sync: 76%|████████████████████████████████████████████▊              | 1299063/1710638 [00:50<00:15\u001b[A\n",
      "Evaluating class_label_sync: 82%|████████████████████████████████████████████████▍          | 1405975/1710638 [00:55<00:12\u001b[A\n",
      "Evaluating class_label_sync: 90%|█████████████████████████████████████████████████████      | 1537386/1710638 [01:00<00:06\u001b[A\n",
      "Evaluating class_label_sync: 98%|█████████████████████████████████████████████████████████▌ | 1669103/1710638 [01:05<00:01\u001b[A\n",
      "Evaluating class_label_sync: 98%|█████████████████████████████████████████████████████████▌ | 1669103/1710638 [01:17<00:01\u001b[A\n",
      "Evaluating class_label_sync: 100%|██████████████████████████████████████████████████████████| 1710638/1710638 [01:34<00:00\u001b[A\n",
      "Evaluating flac_to_deeplake: 100%|██████████████████████████████████████████████████████████| 1710638/1710638 [50:25<00:00\n"
     ]
    },
    {
     "name": "stdout",
     "output_type": "stream",
     "text": [
      "[2023-12-13_22-17-27]\t\n",
      "+-------------------------------------+\n",
      "|commit_files_to_ds took 50.42 minutes|\n",
      "+-------------------------------------+\n",
      "\n"
     ]
    },
    {
     "name": "stderr",
     "output_type": "stream",
     "text": []
    }
   ],
   "source": [
    "commit_files_to_ds(flacfiles=flacfiles, ds=ds)"
   ]
  },
  {
   "cell_type": "code",
   "execution_count": null,
   "id": "f9425bde-6536-4cef-bee6-298804b79fd5",
   "metadata": {},
   "outputs": [],
   "source": []
  }
 ],
 "metadata": {
  "kernelspec": {
   "display_name": "Python 3 (ipykernel)",
   "language": "python",
   "name": "python3"
  },
  "language_info": {
   "codemirror_mode": {
    "name": "ipython",
    "version": 3
   },
   "file_extension": ".py",
   "mimetype": "text/x-python",
   "name": "python",
   "nbconvert_exporter": "python",
   "pygments_lexer": "ipython3",
   "version": "3.11.5"
  }
 },
 "nbformat": 4,
 "nbformat_minor": 5
}
